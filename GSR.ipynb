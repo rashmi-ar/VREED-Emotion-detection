{
 "cells": [
  {
   "cell_type": "code",
   "execution_count": 1,
   "metadata": {},
   "outputs": [],
   "source": [
    "#import necessary libraries\n",
    "import lightgbm\n",
    "import numpy as np\n",
    "import pandas as pd\n",
    "from sklearn import preprocessing\n",
    "import matplotlib.pyplot as plt"
   ]
  },
  {
   "cell_type": "code",
   "execution_count": 2,
   "metadata": {},
   "outputs": [
    {
     "data": {
      "text/html": [
       "<div>\n",
       "<style scoped>\n",
       "    .dataframe tbody tr th:only-of-type {\n",
       "        vertical-align: middle;\n",
       "    }\n",
       "\n",
       "    .dataframe tbody tr th {\n",
       "        vertical-align: top;\n",
       "    }\n",
       "\n",
       "    .dataframe thead th {\n",
       "        text-align: right;\n",
       "    }\n",
       "</style>\n",
       "<table border=\"1\" class=\"dataframe\">\n",
       "  <thead>\n",
       "    <tr style=\"text-align: right;\">\n",
       "      <th></th>\n",
       "      <th>Quad_Cat</th>\n",
       "      <th>Mean</th>\n",
       "      <th>SD</th>\n",
       "      <th>Variance</th>\n",
       "      <th>Minimum</th>\n",
       "      <th>Maximum</th>\n",
       "      <th>Number of Peaks</th>\n",
       "      <th>Number of Valleys</th>\n",
       "      <th>Ratio</th>\n",
       "    </tr>\n",
       "  </thead>\n",
       "  <tbody>\n",
       "    <tr>\n",
       "      <th>0</th>\n",
       "      <td>1</td>\n",
       "      <td>3.560146</td>\n",
       "      <td>0.139966</td>\n",
       "      <td>0.019591</td>\n",
       "      <td>3.317403</td>\n",
       "      <td>3.982484</td>\n",
       "      <td>0.000019</td>\n",
       "      <td>0.000019</td>\n",
       "      <td>5.300000e-11</td>\n",
       "    </tr>\n",
       "    <tr>\n",
       "      <th>1</th>\n",
       "      <td>0</td>\n",
       "      <td>5.567496</td>\n",
       "      <td>0.659287</td>\n",
       "      <td>0.434660</td>\n",
       "      <td>4.043869</td>\n",
       "      <td>7.146960</td>\n",
       "      <td>0.000036</td>\n",
       "      <td>0.000036</td>\n",
       "      <td>1.880000e-10</td>\n",
       "    </tr>\n",
       "    <tr>\n",
       "      <th>2</th>\n",
       "      <td>0</td>\n",
       "      <td>4.072888</td>\n",
       "      <td>0.530539</td>\n",
       "      <td>0.281472</td>\n",
       "      <td>2.393337</td>\n",
       "      <td>4.711197</td>\n",
       "      <td>0.000041</td>\n",
       "      <td>0.000041</td>\n",
       "      <td>2.820000e-10</td>\n",
       "    </tr>\n",
       "    <tr>\n",
       "      <th>3</th>\n",
       "      <td>3</td>\n",
       "      <td>5.407625</td>\n",
       "      <td>0.891521</td>\n",
       "      <td>0.794809</td>\n",
       "      <td>3.213556</td>\n",
       "      <td>7.700064</td>\n",
       "      <td>0.000041</td>\n",
       "      <td>0.000041</td>\n",
       "      <td>1.910000e-10</td>\n",
       "    </tr>\n",
       "    <tr>\n",
       "      <th>4</th>\n",
       "      <td>1</td>\n",
       "      <td>3.232517</td>\n",
       "      <td>0.159728</td>\n",
       "      <td>0.025513</td>\n",
       "      <td>2.973926</td>\n",
       "      <td>3.608285</td>\n",
       "      <td>0.000030</td>\n",
       "      <td>0.000030</td>\n",
       "      <td>8.350000e-11</td>\n",
       "    </tr>\n",
       "  </tbody>\n",
       "</table>\n",
       "</div>"
      ],
      "text/plain": [
       "   Quad_Cat      Mean        SD  Variance   Minimum   Maximum  \\\n",
       "0         1  3.560146  0.139966  0.019591  3.317403  3.982484   \n",
       "1         0  5.567496  0.659287  0.434660  4.043869  7.146960   \n",
       "2         0  4.072888  0.530539  0.281472  2.393337  4.711197   \n",
       "3         3  5.407625  0.891521  0.794809  3.213556  7.700064   \n",
       "4         1  3.232517  0.159728  0.025513  2.973926  3.608285   \n",
       "\n",
       "   Number of Peaks  Number of Valleys         Ratio  \n",
       "0         0.000019           0.000019  5.300000e-11  \n",
       "1         0.000036           0.000036  1.880000e-10  \n",
       "2         0.000041           0.000041  2.820000e-10  \n",
       "3         0.000041           0.000041  1.910000e-10  \n",
       "4         0.000030           0.000030  8.350000e-11  "
      ]
     },
     "execution_count": 2,
     "metadata": {},
     "output_type": "execute_result"
    }
   ],
   "source": [
    "df_gsr_all = pd.read_csv(\"VREED_Dataset/05 ECG-GSR Data/02 ECG-GSR (Features Extracted)/GSR_FeaturesExtracted.csv\")\n",
    "df_gsr_all.head()"
   ]
  },
  {
   "cell_type": "code",
   "execution_count": 3,
   "metadata": {},
   "outputs": [],
   "source": [
    "#Normalize data using MinMaxScaler\n",
    "scaler = preprocessing.MinMaxScaler()\n",
    "df_gsr_drop = df_gsr_all.drop(['Quad_Cat'], axis=1)\n",
    "names = df_gsr_drop.columns\n",
    "fit = scaler.fit_transform(df_gsr_drop)\n",
    "scaled_df = pd.DataFrame(fit, columns=names)"
   ]
  },
  {
   "cell_type": "code",
   "execution_count": 4,
   "metadata": {},
   "outputs": [
    {
     "data": {
      "text/html": [
       "<div>\n",
       "<style scoped>\n",
       "    .dataframe tbody tr th:only-of-type {\n",
       "        vertical-align: middle;\n",
       "    }\n",
       "\n",
       "    .dataframe tbody tr th {\n",
       "        vertical-align: top;\n",
       "    }\n",
       "\n",
       "    .dataframe thead th {\n",
       "        text-align: right;\n",
       "    }\n",
       "</style>\n",
       "<table border=\"1\" class=\"dataframe\">\n",
       "  <thead>\n",
       "    <tr style=\"text-align: right;\">\n",
       "      <th></th>\n",
       "      <th>Mean</th>\n",
       "      <th>SD</th>\n",
       "      <th>Variance</th>\n",
       "      <th>Minimum</th>\n",
       "      <th>Maximum</th>\n",
       "      <th>Number of Peaks</th>\n",
       "      <th>Number of Valleys</th>\n",
       "      <th>Ratio</th>\n",
       "    </tr>\n",
       "  </thead>\n",
       "  <tbody>\n",
       "    <tr>\n",
       "      <th>0</th>\n",
       "      <td>0.062865</td>\n",
       "      <td>0.031769</td>\n",
       "      <td>0.001240</td>\n",
       "      <td>0.059408</td>\n",
       "      <td>0.067751</td>\n",
       "      <td>0.236810</td>\n",
       "      <td>0.258367</td>\n",
       "      <td>0.095841</td>\n",
       "    </tr>\n",
       "    <tr>\n",
       "      <th>1</th>\n",
       "      <td>0.138215</td>\n",
       "      <td>0.163648</td>\n",
       "      <td>0.027806</td>\n",
       "      <td>0.089017</td>\n",
       "      <td>0.172199</td>\n",
       "      <td>0.445399</td>\n",
       "      <td>0.485944</td>\n",
       "      <td>0.339964</td>\n",
       "    </tr>\n",
       "    <tr>\n",
       "      <th>2</th>\n",
       "      <td>0.082112</td>\n",
       "      <td>0.130954</td>\n",
       "      <td>0.018001</td>\n",
       "      <td>0.021745</td>\n",
       "      <td>0.091803</td>\n",
       "      <td>0.504294</td>\n",
       "      <td>0.550201</td>\n",
       "      <td>0.509946</td>\n",
       "    </tr>\n",
       "    <tr>\n",
       "      <th>3</th>\n",
       "      <td>0.132214</td>\n",
       "      <td>0.222623</td>\n",
       "      <td>0.050858</td>\n",
       "      <td>0.055175</td>\n",
       "      <td>0.190456</td>\n",
       "      <td>0.509202</td>\n",
       "      <td>0.555556</td>\n",
       "      <td>0.345389</td>\n",
       "    </tr>\n",
       "    <tr>\n",
       "      <th>4</th>\n",
       "      <td>0.050567</td>\n",
       "      <td>0.036788</td>\n",
       "      <td>0.001619</td>\n",
       "      <td>0.045409</td>\n",
       "      <td>0.055400</td>\n",
       "      <td>0.371779</td>\n",
       "      <td>0.405622</td>\n",
       "      <td>0.150995</td>\n",
       "    </tr>\n",
       "  </tbody>\n",
       "</table>\n",
       "</div>"
      ],
      "text/plain": [
       "       Mean        SD  Variance   Minimum   Maximum  Number of Peaks  \\\n",
       "0  0.062865  0.031769  0.001240  0.059408  0.067751         0.236810   \n",
       "1  0.138215  0.163648  0.027806  0.089017  0.172199         0.445399   \n",
       "2  0.082112  0.130954  0.018001  0.021745  0.091803         0.504294   \n",
       "3  0.132214  0.222623  0.050858  0.055175  0.190456         0.509202   \n",
       "4  0.050567  0.036788  0.001619  0.045409  0.055400         0.371779   \n",
       "\n",
       "   Number of Valleys     Ratio  \n",
       "0           0.258367  0.095841  \n",
       "1           0.485944  0.339964  \n",
       "2           0.550201  0.509946  \n",
       "3           0.555556  0.345389  \n",
       "4           0.405622  0.150995  "
      ]
     },
     "execution_count": 4,
     "metadata": {},
     "output_type": "execute_result"
    }
   ],
   "source": [
    "scaled_df.head()"
   ]
  },
  {
   "cell_type": "code",
   "execution_count": 5,
   "metadata": {},
   "outputs": [
    {
     "data": {
      "text/html": [
       "<div>\n",
       "<style scoped>\n",
       "    .dataframe tbody tr th:only-of-type {\n",
       "        vertical-align: middle;\n",
       "    }\n",
       "\n",
       "    .dataframe tbody tr th {\n",
       "        vertical-align: top;\n",
       "    }\n",
       "\n",
       "    .dataframe thead th {\n",
       "        text-align: right;\n",
       "    }\n",
       "</style>\n",
       "<table border=\"1\" class=\"dataframe\">\n",
       "  <thead>\n",
       "    <tr style=\"text-align: right;\">\n",
       "      <th></th>\n",
       "      <th>Quad_Cat</th>\n",
       "      <th>Mean</th>\n",
       "      <th>SD</th>\n",
       "      <th>Variance</th>\n",
       "      <th>Minimum</th>\n",
       "      <th>Maximum</th>\n",
       "      <th>Number of Peaks</th>\n",
       "      <th>Number of Valleys</th>\n",
       "      <th>Ratio</th>\n",
       "    </tr>\n",
       "  </thead>\n",
       "  <tbody>\n",
       "    <tr>\n",
       "      <th>0</th>\n",
       "      <td>1</td>\n",
       "      <td>0.062865</td>\n",
       "      <td>0.031769</td>\n",
       "      <td>0.001240</td>\n",
       "      <td>0.059408</td>\n",
       "      <td>0.067751</td>\n",
       "      <td>0.236810</td>\n",
       "      <td>0.258367</td>\n",
       "      <td>0.095841</td>\n",
       "    </tr>\n",
       "    <tr>\n",
       "      <th>1</th>\n",
       "      <td>0</td>\n",
       "      <td>0.138215</td>\n",
       "      <td>0.163648</td>\n",
       "      <td>0.027806</td>\n",
       "      <td>0.089017</td>\n",
       "      <td>0.172199</td>\n",
       "      <td>0.445399</td>\n",
       "      <td>0.485944</td>\n",
       "      <td>0.339964</td>\n",
       "    </tr>\n",
       "    <tr>\n",
       "      <th>2</th>\n",
       "      <td>0</td>\n",
       "      <td>0.082112</td>\n",
       "      <td>0.130954</td>\n",
       "      <td>0.018001</td>\n",
       "      <td>0.021745</td>\n",
       "      <td>0.091803</td>\n",
       "      <td>0.504294</td>\n",
       "      <td>0.550201</td>\n",
       "      <td>0.509946</td>\n",
       "    </tr>\n",
       "    <tr>\n",
       "      <th>3</th>\n",
       "      <td>3</td>\n",
       "      <td>0.132214</td>\n",
       "      <td>0.222623</td>\n",
       "      <td>0.050858</td>\n",
       "      <td>0.055175</td>\n",
       "      <td>0.190456</td>\n",
       "      <td>0.509202</td>\n",
       "      <td>0.555556</td>\n",
       "      <td>0.345389</td>\n",
       "    </tr>\n",
       "    <tr>\n",
       "      <th>4</th>\n",
       "      <td>1</td>\n",
       "      <td>0.050567</td>\n",
       "      <td>0.036788</td>\n",
       "      <td>0.001619</td>\n",
       "      <td>0.045409</td>\n",
       "      <td>0.055400</td>\n",
       "      <td>0.371779</td>\n",
       "      <td>0.405622</td>\n",
       "      <td>0.150995</td>\n",
       "    </tr>\n",
       "  </tbody>\n",
       "</table>\n",
       "</div>"
      ],
      "text/plain": [
       "   Quad_Cat      Mean        SD  Variance   Minimum   Maximum  \\\n",
       "0         1  0.062865  0.031769  0.001240  0.059408  0.067751   \n",
       "1         0  0.138215  0.163648  0.027806  0.089017  0.172199   \n",
       "2         0  0.082112  0.130954  0.018001  0.021745  0.091803   \n",
       "3         3  0.132214  0.222623  0.050858  0.055175  0.190456   \n",
       "4         1  0.050567  0.036788  0.001619  0.045409  0.055400   \n",
       "\n",
       "   Number of Peaks  Number of Valleys     Ratio  \n",
       "0         0.236810           0.258367  0.095841  \n",
       "1         0.445399           0.485944  0.339964  \n",
       "2         0.504294           0.550201  0.509946  \n",
       "3         0.509202           0.555556  0.345389  \n",
       "4         0.371779           0.405622  0.150995  "
      ]
     },
     "execution_count": 5,
     "metadata": {},
     "output_type": "execute_result"
    }
   ],
   "source": [
    "df_gsr = pd.concat([df_gsr_all['Quad_Cat'],scaled_df], axis = 1)\n",
    "df_gsr.head()"
   ]
  },
  {
   "attachments": {},
   "cell_type": "markdown",
   "metadata": {},
   "source": [
    "Add columns - Arousal and Valence to the dataframe. \n",
    "- if Quad_Cat is 0 - Arousal = 1, Valence = 1\n",
    "- if Quad_Cat is 1 - Arousal = 0, Valence = 1\n",
    "- if Quad_Cat is 2 - Arousal = 0, Valence = 0\n",
    "- if Quad_Cat is 3 - Arousal = 1, Valence = 0\n"
   ]
  },
  {
   "cell_type": "code",
   "execution_count": 6,
   "metadata": {
    "scrolled": true
   },
   "outputs": [
    {
     "data": {
      "text/html": [
       "<div>\n",
       "<style scoped>\n",
       "    .dataframe tbody tr th:only-of-type {\n",
       "        vertical-align: middle;\n",
       "    }\n",
       "\n",
       "    .dataframe tbody tr th {\n",
       "        vertical-align: top;\n",
       "    }\n",
       "\n",
       "    .dataframe thead th {\n",
       "        text-align: right;\n",
       "    }\n",
       "</style>\n",
       "<table border=\"1\" class=\"dataframe\">\n",
       "  <thead>\n",
       "    <tr style=\"text-align: right;\">\n",
       "      <th></th>\n",
       "      <th>Quad_Cat</th>\n",
       "      <th>Mean</th>\n",
       "      <th>SD</th>\n",
       "      <th>Variance</th>\n",
       "      <th>Minimum</th>\n",
       "      <th>Maximum</th>\n",
       "      <th>Number of Peaks</th>\n",
       "      <th>Number of Valleys</th>\n",
       "      <th>Ratio</th>\n",
       "      <th>Arousal</th>\n",
       "      <th>Valence</th>\n",
       "    </tr>\n",
       "  </thead>\n",
       "  <tbody>\n",
       "    <tr>\n",
       "      <th>0</th>\n",
       "      <td>1</td>\n",
       "      <td>0.062865</td>\n",
       "      <td>0.031769</td>\n",
       "      <td>0.001240</td>\n",
       "      <td>0.059408</td>\n",
       "      <td>0.067751</td>\n",
       "      <td>0.236810</td>\n",
       "      <td>0.258367</td>\n",
       "      <td>0.095841</td>\n",
       "      <td>0</td>\n",
       "      <td>1</td>\n",
       "    </tr>\n",
       "    <tr>\n",
       "      <th>1</th>\n",
       "      <td>0</td>\n",
       "      <td>0.138215</td>\n",
       "      <td>0.163648</td>\n",
       "      <td>0.027806</td>\n",
       "      <td>0.089017</td>\n",
       "      <td>0.172199</td>\n",
       "      <td>0.445399</td>\n",
       "      <td>0.485944</td>\n",
       "      <td>0.339964</td>\n",
       "      <td>1</td>\n",
       "      <td>1</td>\n",
       "    </tr>\n",
       "    <tr>\n",
       "      <th>2</th>\n",
       "      <td>0</td>\n",
       "      <td>0.082112</td>\n",
       "      <td>0.130954</td>\n",
       "      <td>0.018001</td>\n",
       "      <td>0.021745</td>\n",
       "      <td>0.091803</td>\n",
       "      <td>0.504294</td>\n",
       "      <td>0.550201</td>\n",
       "      <td>0.509946</td>\n",
       "      <td>1</td>\n",
       "      <td>1</td>\n",
       "    </tr>\n",
       "    <tr>\n",
       "      <th>3</th>\n",
       "      <td>3</td>\n",
       "      <td>0.132214</td>\n",
       "      <td>0.222623</td>\n",
       "      <td>0.050858</td>\n",
       "      <td>0.055175</td>\n",
       "      <td>0.190456</td>\n",
       "      <td>0.509202</td>\n",
       "      <td>0.555556</td>\n",
       "      <td>0.345389</td>\n",
       "      <td>1</td>\n",
       "      <td>0</td>\n",
       "    </tr>\n",
       "    <tr>\n",
       "      <th>4</th>\n",
       "      <td>1</td>\n",
       "      <td>0.050567</td>\n",
       "      <td>0.036788</td>\n",
       "      <td>0.001619</td>\n",
       "      <td>0.045409</td>\n",
       "      <td>0.055400</td>\n",
       "      <td>0.371779</td>\n",
       "      <td>0.405622</td>\n",
       "      <td>0.150995</td>\n",
       "      <td>0</td>\n",
       "      <td>1</td>\n",
       "    </tr>\n",
       "    <tr>\n",
       "      <th>...</th>\n",
       "      <td>...</td>\n",
       "      <td>...</td>\n",
       "      <td>...</td>\n",
       "      <td>...</td>\n",
       "      <td>...</td>\n",
       "      <td>...</td>\n",
       "      <td>...</td>\n",
       "      <td>...</td>\n",
       "      <td>...</td>\n",
       "      <td>...</td>\n",
       "      <td>...</td>\n",
       "    </tr>\n",
       "    <tr>\n",
       "      <th>307</th>\n",
       "      <td>2</td>\n",
       "      <td>0.470148</td>\n",
       "      <td>0.106420</td>\n",
       "      <td>0.012038</td>\n",
       "      <td>0.489424</td>\n",
       "      <td>0.460511</td>\n",
       "      <td>0.375460</td>\n",
       "      <td>0.350736</td>\n",
       "      <td>0.242315</td>\n",
       "      <td>0</td>\n",
       "      <td>0</td>\n",
       "    </tr>\n",
       "    <tr>\n",
       "      <th>308</th>\n",
       "      <td>0</td>\n",
       "      <td>0.610813</td>\n",
       "      <td>0.612954</td>\n",
       "      <td>0.377490</td>\n",
       "      <td>0.444839</td>\n",
       "      <td>0.662671</td>\n",
       "      <td>0.411043</td>\n",
       "      <td>0.448461</td>\n",
       "      <td>0.202532</td>\n",
       "      <td>1</td>\n",
       "      <td>1</td>\n",
       "    </tr>\n",
       "    <tr>\n",
       "      <th>309</th>\n",
       "      <td>1</td>\n",
       "      <td>0.357959</td>\n",
       "      <td>0.111497</td>\n",
       "      <td>0.013174</td>\n",
       "      <td>0.364487</td>\n",
       "      <td>0.344976</td>\n",
       "      <td>0.388957</td>\n",
       "      <td>0.467202</td>\n",
       "      <td>0.182640</td>\n",
       "      <td>0</td>\n",
       "      <td>1</td>\n",
       "    </tr>\n",
       "    <tr>\n",
       "      <th>310</th>\n",
       "      <td>3</td>\n",
       "      <td>0.372762</td>\n",
       "      <td>0.076092</td>\n",
       "      <td>0.006317</td>\n",
       "      <td>0.391586</td>\n",
       "      <td>0.355217</td>\n",
       "      <td>0.417178</td>\n",
       "      <td>0.544846</td>\n",
       "      <td>0.417722</td>\n",
       "      <td>1</td>\n",
       "      <td>0</td>\n",
       "    </tr>\n",
       "    <tr>\n",
       "      <th>311</th>\n",
       "      <td>3</td>\n",
       "      <td>0.362645</td>\n",
       "      <td>0.042382</td>\n",
       "      <td>0.002100</td>\n",
       "      <td>0.385164</td>\n",
       "      <td>0.332128</td>\n",
       "      <td>0.000000</td>\n",
       "      <td>0.000000</td>\n",
       "      <td>0.000000</td>\n",
       "      <td>1</td>\n",
       "      <td>0</td>\n",
       "    </tr>\n",
       "  </tbody>\n",
       "</table>\n",
       "<p>312 rows × 11 columns</p>\n",
       "</div>"
      ],
      "text/plain": [
       "     Quad_Cat      Mean        SD  Variance   Minimum   Maximum  \\\n",
       "0           1  0.062865  0.031769  0.001240  0.059408  0.067751   \n",
       "1           0  0.138215  0.163648  0.027806  0.089017  0.172199   \n",
       "2           0  0.082112  0.130954  0.018001  0.021745  0.091803   \n",
       "3           3  0.132214  0.222623  0.050858  0.055175  0.190456   \n",
       "4           1  0.050567  0.036788  0.001619  0.045409  0.055400   \n",
       "..        ...       ...       ...       ...       ...       ...   \n",
       "307         2  0.470148  0.106420  0.012038  0.489424  0.460511   \n",
       "308         0  0.610813  0.612954  0.377490  0.444839  0.662671   \n",
       "309         1  0.357959  0.111497  0.013174  0.364487  0.344976   \n",
       "310         3  0.372762  0.076092  0.006317  0.391586  0.355217   \n",
       "311         3  0.362645  0.042382  0.002100  0.385164  0.332128   \n",
       "\n",
       "     Number of Peaks  Number of Valleys     Ratio  Arousal  Valence  \n",
       "0           0.236810           0.258367  0.095841        0        1  \n",
       "1           0.445399           0.485944  0.339964        1        1  \n",
       "2           0.504294           0.550201  0.509946        1        1  \n",
       "3           0.509202           0.555556  0.345389        1        0  \n",
       "4           0.371779           0.405622  0.150995        0        1  \n",
       "..               ...                ...       ...      ...      ...  \n",
       "307         0.375460           0.350736  0.242315        0        0  \n",
       "308         0.411043           0.448461  0.202532        1        1  \n",
       "309         0.388957           0.467202  0.182640        0        1  \n",
       "310         0.417178           0.544846  0.417722        1        0  \n",
       "311         0.000000           0.000000  0.000000        1        0  \n",
       "\n",
       "[312 rows x 11 columns]"
      ]
     },
     "execution_count": 6,
     "metadata": {},
     "output_type": "execute_result"
    }
   ],
   "source": [
    "#Read column names for X and y\n",
    "\n",
    "df_gsr['Arousal'] = df_gsr['Quad_Cat'].apply(lambda x: 0 if ((x == 1) | (x == 2))  else 1)\n",
    "df_gsr['Valence'] = df_gsr['Quad_Cat'].apply(lambda x: 0 if ((x == 2) | (x == 3))  else 1)\n",
    "\n",
    "X_gsr = df_gsr[['Mean', 'SD', 'Variance','Minimum','Maximum', 'Number of Peaks', 'Number of Valleys','Ratio']]\n",
    "y_gsr_quad = df_gsr['Quad_Cat']\n",
    "y_gsr_ar = df_gsr['Arousal']\n",
    "y_gsr_va = df_gsr['Valence']\n",
    "df_gsr"
   ]
  },
  {
   "cell_type": "code",
   "execution_count": 7,
   "metadata": {},
   "outputs": [
    {
     "name": "stdout",
     "output_type": "stream",
     "text": [
      "[0 1 2 3]\n"
     ]
    }
   ],
   "source": [
    "from sklearn.preprocessing import LabelEncoder\n",
    "\n",
    "label_encoder=LabelEncoder()\n",
    "label_encoder.fit(y_gsr_quad)\n",
    "y=label_encoder.transform(y_gsr_quad)\n",
    "classes_quad=label_encoder.classes_\n",
    "print(classes_quad)"
   ]
  },
  {
   "cell_type": "code",
   "execution_count": 8,
   "metadata": {},
   "outputs": [
    {
     "name": "stdout",
     "output_type": "stream",
     "text": [
      "[0 1]\n"
     ]
    }
   ],
   "source": [
    "label_encoder=LabelEncoder()\n",
    "label_encoder.fit(y_gsr_ar)\n",
    "y=label_encoder.transform(y_gsr_ar)\n",
    "classes_ar=label_encoder.classes_\n",
    "print(classes_ar)"
   ]
  },
  {
   "cell_type": "code",
   "execution_count": 9,
   "metadata": {},
   "outputs": [
    {
     "name": "stdout",
     "output_type": "stream",
     "text": [
      "[0 1]\n"
     ]
    }
   ],
   "source": [
    "label_encoder=LabelEncoder()\n",
    "label_encoder.fit(y_gsr_va)\n",
    "y=label_encoder.transform(y_gsr_va)\n",
    "classes_va=label_encoder.classes_\n",
    "print(classes_va)"
   ]
  },
  {
   "cell_type": "code",
   "execution_count": 10,
   "metadata": {},
   "outputs": [
    {
     "name": "stdout",
     "output_type": "stream",
     "text": [
      "GSR 4-class accuracy: 68.9415\n",
      "GSR 4-class precision: 0.7326\n",
      "GSR 4-class recall: 0.7009\n",
      "GSR 4-class F1: 0.7001\n"
     ]
    }
   ],
   "source": [
    "from sklearn import metrics\n",
    "from lightgbm import LGBMClassifier\n",
    "from numpy import mean\n",
    "from numpy import std\n",
    "from sklearn.model_selection import StratifiedKFold\n",
    "from sklearn.preprocessing import label_binarize\n",
    "from sklearn.metrics import roc_curve,auc\n",
    "\n",
    "gsr_quad = LGBMClassifier(boosting_type='gbdt', class_weight=None, colsample_bytree=1.0,\n",
    "               importance_type='split', learning_rate=0.1, max_depth=-1,\n",
    "               min_child_samples=20, min_child_weight=0.001, min_split_gain=0.0,\n",
    "               n_estimators=100, n_jobs=-1, num_leaves=31, objective=None,\n",
    "               random_state=8112, reg_alpha=0.0, reg_lambda=0.0, silent='warn',\n",
    "               subsample=1.0, subsample_for_bin=200000, subsample_freq=0)\n",
    "\n",
    "gsr_ar = LGBMClassifier(boosting_type='gbdt', class_weight=None, colsample_bytree=1.0,\n",
    "               importance_type='split', learning_rate=0.1, max_depth=-1,\n",
    "               min_child_samples=20, min_child_weight=0.001, min_split_gain=0.0,\n",
    "               n_estimators=100, n_jobs=-1, num_leaves=31, objective=None,\n",
    "               random_state=8112, reg_alpha=0.0, reg_lambda=0.0, silent='warn',\n",
    "               subsample=1.0, subsample_for_bin=200000, subsample_freq=0)\n",
    "\n",
    "gsr_va = LGBMClassifier(boosting_type='gbdt', class_weight=None, colsample_bytree=1.0,\n",
    "               importance_type='split', learning_rate=0.1, max_depth=-1,\n",
    "               min_child_samples=20, min_child_weight=0.001, min_split_gain=0.0,\n",
    "               n_estimators=100, n_jobs=-1, num_leaves=31, objective=None,\n",
    "               random_state=8112, reg_alpha=0.0, reg_lambda=0.0, silent='warn',\n",
    "               subsample=1.0, subsample_for_bin=200000, subsample_freq=0)\n",
    "\n",
    "def CrossValidation(X,y,classifier):\n",
    "    accuracy = []\n",
    "\n",
    "    cv = StratifiedKFold(n_splits=10, random_state=None, shuffle=False)\n",
    "    cv.get_n_splits(X, y)\n",
    "\n",
    "    for train, test in cv.split(X, y):\n",
    "        X_train, X_test = X.iloc[train], X.iloc[test]\n",
    "        y_train, y_test = y.iloc[train], y.iloc[test]\n",
    "\n",
    "        classifier.fit(X_train, y_train)\n",
    "        feature = classifier.feature_importances_\n",
    "        \n",
    "        prediction = classifier.predict(X_test)\n",
    "        score = metrics.accuracy_score(y_test, prediction)\n",
    "        accuracy.append(score)\n",
    "        \n",
    "        report = metrics.classification_report(y_test, prediction,output_dict=True)\n",
    "        precision =  report['macro avg']['precision'] \n",
    "        recall = report['macro avg']['recall']    \n",
    "        f1 = report['macro avg']['f1-score']\n",
    "        \n",
    "        confusion_matrix = metrics.confusion_matrix(y_test, prediction)\n",
    "\n",
    "    return accuracy, feature, precision, recall, f1, confusion_matrix\n",
    "\n",
    "all_quad_accuracy, all_quad_feature, all_quad_precision, all_quad_recall, all_quad_f1, all_quad_cm = CrossValidation(X_gsr, y_gsr_quad, gsr_quad)\n",
    "all_quad_accuracy_mean = (np.array(all_quad_accuracy).mean()) * 100\n",
    "print(\"GSR 4-class accuracy: %.4f\" % all_quad_accuracy_mean)\n",
    "print(\"GSR 4-class precision: %.4f\" % all_quad_precision)\n",
    "print(\"GSR 4-class recall: %.4f\" % all_quad_recall)\n",
    "print(\"GSR 4-class F1: %.4f\" % all_quad_f1)"
   ]
  },
  {
   "cell_type": "code",
   "execution_count": 11,
   "metadata": {},
   "outputs": [
    {
     "name": "stdout",
     "output_type": "stream",
     "text": [
      "GSR Arousal accuracy: 91.9758\n",
      "GSR Arousal precision: 0.9042\n",
      "GSR Arousal recall: 0.9042\n",
      "GSR Arousal F1: 0.9032\n"
     ]
    }
   ],
   "source": [
    "all_ar_accuracy, all_ar_feature, all_ar_precision, all_ar_recall, all_ar_f1, all_ar_cm = CrossValidation(X_gsr, y_gsr_ar, gsr_ar)\n",
    "all_ar_accuracy_mean = (np.array(all_ar_accuracy).mean()) * 100\n",
    "\n",
    "print(\"GSR Arousal accuracy: %.4f\" % all_ar_accuracy_mean)\n",
    "print(\"GSR Arousal precision: %.4f\" % all_ar_precision)\n",
    "print(\"GSR Arousal recall: %.4f\" % all_ar_recall)\n",
    "print(\"GSR Arousal F1: %.4f\" % all_ar_f1)"
   ]
  },
  {
   "cell_type": "code",
   "execution_count": 12,
   "metadata": {},
   "outputs": [
    {
     "name": "stdout",
     "output_type": "stream",
     "text": [
      "GSR Valence accuracy: 65.3730\n",
      "GSR Valence precision: 0.5132\n",
      "GSR Valence recall: 0.5125\n",
      "GSR Valence F1: 0.5079\n"
     ]
    }
   ],
   "source": [
    "all_va_accuracy, all_va_feature, all_va_precision, all_va_recall, all_va_f1, all_va_cm = CrossValidation(X_gsr, y_gsr_va, gsr_va)\n",
    "all_va_accuracy_mean = (np.array(all_va_accuracy).mean()) * 100\n",
    "\n",
    "print(\"GSR Valence accuracy: %.4f\" % all_va_accuracy_mean)\n",
    "print(\"GSR Valence precision: %.4f\" % all_va_precision)\n",
    "print(\"GSR Valence recall: %.4f\" % all_va_recall)\n",
    "print(\"GSR Valence F1: %.4f\" % all_va_f1)"
   ]
  },
  {
   "cell_type": "code",
   "execution_count": 13,
   "metadata": {},
   "outputs": [
    {
     "data": {
      "image/png": "[encoded data removed]",
      "text/plain": [
       "<Figure size 432x288 with 1 Axes>"
      ]
     },
     "metadata": {
      "needs_background": "light"
     },
     "output_type": "display_data"
    }
   ],
   "source": [
    "left = [1, 2, 3]\n",
    "  \n",
    "height = [all_quad_accuracy_mean, all_ar_accuracy_mean, all_va_accuracy_mean]\n",
    "  \n",
    "tick_label = ['Quad_Cat', 'Arousal', 'Valence']\n",
    "  \n",
    "plt.bar(left, height, tick_label = tick_label,\n",
    "        width = 0.8, color = ['purple', 'green'])\n",
    "  \n",
    "plt.xlabel('Modalities')\n",
    "plt.ylabel('Accuracy (percentage)')\n",
    "plt.title('Accuracy of 3 modalities')\n",
    "  \n",
    "plt.show()"
   ]
  },
  {
   "cell_type": "code",
   "execution_count": 14,
   "metadata": {},
   "outputs": [
    {
     "data": {
      "image/png": "[encoded data removed]",
      "text/plain": [
       "<Figure size 1008x360 with 1 Axes>"
      ]
     },
     "metadata": {
      "needs_background": "light"
     },
     "output_type": "display_data"
    }
   ],
   "source": [
    "#Feature Importance graph plot for 4-class\n",
    "\n",
    "plt.figure(1,figsize=(14,5))\n",
    "column_names = scaled_df.columns\n",
    "xaxis = column_names\n",
    "clrs = ['blue' if (x < 600) else 'red' for x in all_quad_feature ]\n",
    "plt.bar(xaxis, all_quad_feature, color = clrs)\n",
    "plt.title('Feature Importance')\n",
    "plt.xlabel('Features')\n",
    "plt.ylabel('Scores')\n",
    "plt.show()"
   ]
  },
  {
   "cell_type": "code",
   "execution_count": 15,
   "metadata": {},
   "outputs": [
    {
     "data": {
      "image/png": "[encoded data removed]",
      "text/plain": [
       "<Figure size 1008x360 with 1 Axes>"
      ]
     },
     "metadata": {
      "needs_background": "light"
     },
     "output_type": "display_data"
    }
   ],
   "source": [
    "#Feature Importance graph plot for Arousal\n",
    "\n",
    "plt.figure(1,figsize=(14,5))\n",
    "xaxis = column_names\n",
    "clrs = ['blue' if (x < 150) else 'red' for x in all_ar_feature ]\n",
    "plt.bar(xaxis, all_ar_feature, color = clrs)\n",
    "plt.title('Feature Importance: Arousal')\n",
    "plt.xlabel('Features')\n",
    "plt.ylabel('Scores')\n",
    "plt.show()"
   ]
  },
  {
   "cell_type": "code",
   "execution_count": 16,
   "metadata": {},
   "outputs": [
    {
     "data": {
      "image/png": "[encoded data removed]",
      "text/plain": [
       "<Figure size 1008x360 with 1 Axes>"
      ]
     },
     "metadata": {
      "needs_background": "light"
     },
     "output_type": "display_data"
    }
   ],
   "source": [
    "#Feature Importance graph plot for Valence\n",
    "\n",
    "plt.figure(1,figsize=(14,5))\n",
    "xaxis = column_names\n",
    "clrs = ['blue' if (x < 150) else 'red' for x in all_va_feature ]\n",
    "plt.bar(xaxis, all_va_feature, color = clrs)\n",
    "plt.title('Feature Importance: Valence')\n",
    "plt.xlabel('Features')\n",
    "plt.ylabel('Scores')\n",
    "plt.show()"
   ]
  },
  {
   "cell_type": "code",
   "execution_count": 17,
   "metadata": {},
   "outputs": [
    {
     "data": {
      "image/png": "[encoded data removed]",
      "text/plain": [
       "<Figure size 432x288 with 2 Axes>"
      ]
     },
     "metadata": {
      "needs_background": "light"
     },
     "output_type": "display_data"
    }
   ],
   "source": [
    "import seaborn as sns\n",
    "\n",
    "#Confusion Matrix for 4-Class\n",
    "ax = sns.heatmap(all_quad_cm/np.sum(all_quad_cm), annot=True, fmt='.1%', cmap='Reds')\n",
    "\n",
    "ax.set_title('4-Class Confusion Matrix\\n\\n');\n",
    "ax.set_xlabel('\\nPredicted Values')\n",
    "ax.set_ylabel('Actual Values ');\n",
    "\n",
    "ax.xaxis.set_ticklabels(['0','1','2','3'])\n",
    "ax.yaxis.set_ticklabels(['0','1','2','3'])\n",
    "\n",
    "# Display the visualization of the Confusion Matrix.\n",
    "plt.show()"
   ]
  },
  {
   "cell_type": "code",
   "execution_count": 18,
   "metadata": {},
   "outputs": [
    {
     "data": {
      "image/png": "[encoded data removed]",
      "text/plain": [
       "<Figure size 432x288 with 2 Axes>"
      ]
     },
     "metadata": {
      "needs_background": "light"
     },
     "output_type": "display_data"
    }
   ],
   "source": [
    "#Confusion Matrix for Arousal\n",
    "\n",
    "ax = sns.heatmap(all_ar_cm/np.sum(all_ar_cm), annot=True, fmt='.1%', cmap='Reds')\n",
    "\n",
    "ax.set_title('Arousal Confusion Matrix\\n\\n');\n",
    "ax.set_xlabel('\\nPredicted Values')\n",
    "ax.set_ylabel('Actual Values ');\n",
    "\n",
    "ax.xaxis.set_ticklabels(['0','1'])\n",
    "ax.yaxis.set_ticklabels(['0','1'])\n",
    "\n",
    "# Display the visualization of the Confusion Matrix.\n",
    "plt.show()"
   ]
  },
  {
   "cell_type": "code",
   "execution_count": 19,
   "metadata": {},
   "outputs": [
    {
     "data": {
      "image/png": "[encoded data removed]",
      "text/plain": [
       "<Figure size 432x288 with 2 Axes>"
      ]
     },
     "metadata": {
      "needs_background": "light"
     },
     "output_type": "display_data"
    }
   ],
   "source": [
    "#Confusion Matrix for Valence\n",
    "\n",
    "ax = sns.heatmap(all_va_cm, annot=True, cmap='Reds')\n",
    "\n",
    "ax.set_title('Valence Confusion Matrix\\n\\n');\n",
    "ax.set_xlabel('\\nPredicted Values')\n",
    "ax.set_ylabel('Actual Values ');\n",
    "\n",
    "ax.xaxis.set_ticklabels(['0','1'])\n",
    "ax.yaxis.set_ticklabels(['0','1'])\n",
    "\n",
    "# Display the visualization of the Confusion Matrix.\n",
    "plt.show()"
   ]
  },
  {
   "cell_type": "code",
   "execution_count": null,
   "metadata": {},
   "outputs": [],
   "source": []
  }
 ],
 "metadata": {
  "kernelspec": {
   "display_name": "Python 3",
   "language": "python",
   "name": "python3"
  },
  "language_info": {
   "codemirror_mode": {
    "name": "ipython",
    "version": 3
   },
   "file_extension": ".py",
   "mimetype": "text/x-python",
   "name": "python",
   "nbconvert_exporter": "python",
   "pygments_lexer": "ipython3",
   "version": "3.8.3"
  }
 },
 "nbformat": 4,
 "nbformat_minor": 4
}
